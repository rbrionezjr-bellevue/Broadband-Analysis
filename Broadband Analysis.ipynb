{
 "cells": [
  {
   "cell_type": "markdown",
   "id": "3a8520b9-2c6d-400c-aa4f-0c1e99b6ccf3",
   "metadata": {},
   "source": [
    "# Broadband Fiber Analysis"
   ]
  },
  {
   "cell_type": "code",
   "execution_count": 139,
   "id": "4e6830b0-5226-4b33-ab3d-2a268913c5b8",
   "metadata": {},
   "outputs": [],
   "source": [
    "import pandas as pd\n",
    "import seaborn as sns\n",
    "import matplotlib.pyplot as plt"
   ]
  },
  {
   "cell_type": "code",
   "execution_count": 305,
   "id": "9a4526e0-7919-4c1f-a080-8b3bbbf74eef",
   "metadata": {},
   "outputs": [],
   "source": [
    "# Load ACS city-level income data\n",
    "acs_path = \"US/ACSST5Y2023.S1903-Data.csv\"  # adjust path if needed\n",
    "acs_df = pd.read_csv(acs_path, low_memory=False)\n",
    "\n",
    "# Load FCC broadband data\n",
    "fcc_path = \"bdc_us_fixed_broadband_summary_by_geography_D24_19jun2025.csv\"\n",
    "fcc_df = pd.read_csv(fcc_path, low_memory=False)"
   ]
  },
  {
   "cell_type": "markdown",
   "id": "a9c63ca6-9860-4f27-bfbd-c9323a32dd57",
   "metadata": {},
   "source": [
    "### Review Data Frames and EDA of FCC Data"
   ]
  },
  {
   "cell_type": "code",
   "execution_count": 306,
   "id": "76bf52d7-1b4a-4f01-83ba-f8cf0975f433",
   "metadata": {},
   "outputs": [
    {
     "name": "stdout",
     "output_type": "stream",
     "text": [
      "<class 'pandas.core.frame.DataFrame'>\n",
      "RangeIndex: 623940 entries, 0 to 623939\n",
      "Data columns (total 14 columns):\n",
      " #   Column               Non-Null Count   Dtype  \n",
      "---  ------               --------------   -----  \n",
      " 0   area_data_type       623940 non-null  object \n",
      " 1   geography_type       623940 non-null  object \n",
      " 2   geography_id         623940 non-null  object \n",
      " 3   geography_desc       623940 non-null  object \n",
      " 4   geography_desc_full  623940 non-null  object \n",
      " 5   total_units          623940 non-null  int64  \n",
      " 6   biz_res              623940 non-null  object \n",
      " 7   technology           623940 non-null  object \n",
      " 8   speed_02_02          623940 non-null  float64\n",
      " 9   speed_10_1           623940 non-null  float64\n",
      " 10  speed_25_3           623940 non-null  float64\n",
      " 11  speed_100_20         623940 non-null  float64\n",
      " 12  speed_250_25         623940 non-null  float64\n",
      " 13  speed_1000_100       623940 non-null  float64\n",
      "dtypes: float64(6), int64(1), object(7)\n",
      "memory usage: 66.6+ MB\n"
     ]
    }
   ],
   "source": [
    "fcc_df.info()"
   ]
  },
  {
   "cell_type": "code",
   "execution_count": 307,
   "id": "88ed9a94-e913-42ec-baa1-3933cca41a50",
   "metadata": {},
   "outputs": [
    {
     "data": {
      "text/html": [
       "<div>\n",
       "<style scoped>\n",
       "    .dataframe tbody tr th:only-of-type {\n",
       "        vertical-align: middle;\n",
       "    }\n",
       "\n",
       "    .dataframe tbody tr th {\n",
       "        vertical-align: top;\n",
       "    }\n",
       "\n",
       "    .dataframe thead th {\n",
       "        text-align: right;\n",
       "    }\n",
       "</style>\n",
       "<table border=\"1\" class=\"dataframe\">\n",
       "  <thead>\n",
       "    <tr style=\"text-align: right;\">\n",
       "      <th></th>\n",
       "      <th>area_data_type</th>\n",
       "      <th>geography_type</th>\n",
       "      <th>geography_id</th>\n",
       "      <th>geography_desc</th>\n",
       "      <th>geography_desc_full</th>\n",
       "      <th>total_units</th>\n",
       "      <th>biz_res</th>\n",
       "      <th>technology</th>\n",
       "      <th>speed_02_02</th>\n",
       "      <th>speed_10_1</th>\n",
       "      <th>speed_25_3</th>\n",
       "      <th>speed_100_20</th>\n",
       "      <th>speed_250_25</th>\n",
       "      <th>speed_1000_100</th>\n",
       "    </tr>\n",
       "  </thead>\n",
       "  <tbody>\n",
       "    <tr>\n",
       "      <th>0</th>\n",
       "      <td>Total</td>\n",
       "      <td>National</td>\n",
       "      <td>99</td>\n",
       "      <td>National</td>\n",
       "      <td>National</td>\n",
       "      <td>164620769</td>\n",
       "      <td>R</td>\n",
       "      <td>Any Technology</td>\n",
       "      <td>1.000000</td>\n",
       "      <td>1.000000</td>\n",
       "      <td>1.000000</td>\n",
       "      <td>0.999915</td>\n",
       "      <td>0.913686</td>\n",
       "      <td>0.591361</td>\n",
       "    </tr>\n",
       "    <tr>\n",
       "      <th>1</th>\n",
       "      <td>Total</td>\n",
       "      <td>National</td>\n",
       "      <td>99</td>\n",
       "      <td>National</td>\n",
       "      <td>National</td>\n",
       "      <td>164620769</td>\n",
       "      <td>B</td>\n",
       "      <td>Any Technology</td>\n",
       "      <td>1.000000</td>\n",
       "      <td>1.000000</td>\n",
       "      <td>1.000000</td>\n",
       "      <td>0.993139</td>\n",
       "      <td>0.746718</td>\n",
       "      <td>0.501438</td>\n",
       "    </tr>\n",
       "    <tr>\n",
       "      <th>2</th>\n",
       "      <td>Total</td>\n",
       "      <td>National</td>\n",
       "      <td>99</td>\n",
       "      <td>National</td>\n",
       "      <td>National</td>\n",
       "      <td>164620769</td>\n",
       "      <td>R</td>\n",
       "      <td>All Wired</td>\n",
       "      <td>0.942139</td>\n",
       "      <td>0.931779</td>\n",
       "      <td>0.918649</td>\n",
       "      <td>0.908108</td>\n",
       "      <td>0.898844</td>\n",
       "      <td>0.583384</td>\n",
       "    </tr>\n",
       "    <tr>\n",
       "      <th>3</th>\n",
       "      <td>Total</td>\n",
       "      <td>National</td>\n",
       "      <td>99</td>\n",
       "      <td>National</td>\n",
       "      <td>National</td>\n",
       "      <td>164620769</td>\n",
       "      <td>B</td>\n",
       "      <td>All Wired</td>\n",
       "      <td>0.829806</td>\n",
       "      <td>0.801533</td>\n",
       "      <td>0.775515</td>\n",
       "      <td>0.728355</td>\n",
       "      <td>0.711858</td>\n",
       "      <td>0.484445</td>\n",
       "    </tr>\n",
       "    <tr>\n",
       "      <th>4</th>\n",
       "      <td>Total</td>\n",
       "      <td>National</td>\n",
       "      <td>99</td>\n",
       "      <td>National</td>\n",
       "      <td>National</td>\n",
       "      <td>164620769</td>\n",
       "      <td>R</td>\n",
       "      <td>Any Terrestrial</td>\n",
       "      <td>0.979037</td>\n",
       "      <td>0.972038</td>\n",
       "      <td>0.964892</td>\n",
       "      <td>0.945353</td>\n",
       "      <td>0.913686</td>\n",
       "      <td>0.591361</td>\n",
       "    </tr>\n",
       "  </tbody>\n",
       "</table>\n",
       "</div>"
      ],
      "text/plain": [
       "  area_data_type geography_type geography_id geography_desc  \\\n",
       "0          Total       National           99       National   \n",
       "1          Total       National           99       National   \n",
       "2          Total       National           99       National   \n",
       "3          Total       National           99       National   \n",
       "4          Total       National           99       National   \n",
       "\n",
       "  geography_desc_full  total_units biz_res       technology  speed_02_02  \\\n",
       "0            National    164620769       R   Any Technology     1.000000   \n",
       "1            National    164620769       B   Any Technology     1.000000   \n",
       "2            National    164620769       R        All Wired     0.942139   \n",
       "3            National    164620769       B        All Wired     0.829806   \n",
       "4            National    164620769       R  Any Terrestrial     0.979037   \n",
       "\n",
       "   speed_10_1  speed_25_3  speed_100_20  speed_250_25  speed_1000_100  \n",
       "0    1.000000    1.000000      0.999915      0.913686        0.591361  \n",
       "1    1.000000    1.000000      0.993139      0.746718        0.501438  \n",
       "2    0.931779    0.918649      0.908108      0.898844        0.583384  \n",
       "3    0.801533    0.775515      0.728355      0.711858        0.484445  \n",
       "4    0.972038    0.964892      0.945353      0.913686        0.591361  "
      ]
     },
     "execution_count": 307,
     "metadata": {},
     "output_type": "execute_result"
    }
   ],
   "source": [
    "fcc_df.head(5)"
   ]
  },
  {
   "cell_type": "code",
   "execution_count": 308,
   "id": "56dc148c-5afe-430c-b951-cd9392525ece",
   "metadata": {},
   "outputs": [],
   "source": [
    "# Filter FCC to county-level entries again if needed\n",
    "fcc_county = fcc_df[fcc_df['geography_type'] == 'County'].copy()"
   ]
  },
  {
   "cell_type": "code",
   "execution_count": 309,
   "id": "1211ec4d-d37e-4e50-b9cf-1ee7eb09b6bd",
   "metadata": {},
   "outputs": [],
   "source": [
    "# Set style\n",
    "sns.set(style=\"whitegrid\")"
   ]
  },
  {
   "cell_type": "code",
   "execution_count": 310,
   "id": "48df8457-d0a8-46cc-9413-e880133c6c2f",
   "metadata": {},
   "outputs": [
    {
     "name": "stderr",
     "output_type": "stream",
     "text": [
      "C:\\Users\\rbrio\\anaconda3\\Lib\\site-packages\\seaborn\\_oldcore.py:1119: FutureWarning: use_inf_as_na option is deprecated and will be removed in a future version. Convert inf values to NaN before operating instead.\n",
      "  with pd.option_context('mode.use_inf_as_na', True):\n"
     ]
    },
    {
     "data": {
      "image/png": "[encoded data removed]",
      "text/plain": [
       "<Figure size 1000x600 with 1 Axes>"
      ]
     },
     "metadata": {},
     "output_type": "display_data"
    }
   ],
   "source": [
    "# Plot histogram\n",
    "plt.figure(figsize=(10, 6))\n",
    "sns.histplot(fcc_county['speed_1000_100'], bins=50, kde=True, color='skyblue')\n",
    "plt.title('Distribution of Gigabit Broadband Availability (speed_1000_100)')\n",
    "plt.xlabel('Proportion of Units with Gigabit Coverage (0 = none, 1 = full)')\n",
    "plt.ylabel('Number of County Records')\n",
    "plt.show()"
   ]
  },
  {
   "cell_type": "code",
   "execution_count": 311,
   "id": "f05f5953-232a-4013-a444-e37cfa0b18fb",
   "metadata": {},
   "outputs": [
    {
     "data": {
      "image/png": "[encoded data removed]",
      "text/plain": [
       "<Figure size 1000x200 with 1 Axes>"
      ]
     },
     "metadata": {},
     "output_type": "display_data"
    }
   ],
   "source": [
    "# Plot boxplot to show outliers and spread\n",
    "plt.figure(figsize=(10, 2))\n",
    "sns.boxplot(x=fcc_county['speed_1000_100'], color='lightgreen')\n",
    "plt.title('Boxplot of Gigabit Broadband Availability')\n",
    "plt.xlabel('Proportion of Units with Gigabit')\n",
    "plt.show()"
   ]
  },
  {
   "cell_type": "code",
   "execution_count": null,
   "id": "61ce1f23-9573-4eab-b395-243f84ae6eae",
   "metadata": {},
   "outputs": [],
   "source": []
  },
  {
   "cell_type": "markdown",
   "id": "ad1fb4d8-8981-4e76-ab2d-5cd68b3ad563",
   "metadata": {},
   "source": [
    "## Review ASC Data Frame and EDA of ACS Data"
   ]
  },
  {
   "cell_type": "code",
   "execution_count": 319,
   "id": "773f6a8d-c2ac-4b31-8fd9-4b1164f46d17",
   "metadata": {},
   "outputs": [
    {
     "data": {
      "text/plain": [
       "(3224, 243)"
      ]
     },
     "execution_count": 319,
     "metadata": {},
     "output_type": "execute_result"
    }
   ],
   "source": [
    "acs_df.shape"
   ]
  },
  {
   "cell_type": "code",
   "execution_count": 320,
   "id": "7c0c3e74-581e-47de-a885-623c4d2606d9",
   "metadata": {},
   "outputs": [
    {
     "data": {
      "text/html": [
       "<div>\n",
       "<style scoped>\n",
       "    .dataframe tbody tr th:only-of-type {\n",
       "        vertical-align: middle;\n",
       "    }\n",
       "\n",
       "    .dataframe tbody tr th {\n",
       "        vertical-align: top;\n",
       "    }\n",
       "\n",
       "    .dataframe thead th {\n",
       "        text-align: right;\n",
       "    }\n",
       "</style>\n",
       "<table border=\"1\" class=\"dataframe\">\n",
       "  <thead>\n",
       "    <tr style=\"text-align: right;\">\n",
       "      <th></th>\n",
       "      <th>GEO_ID</th>\n",
       "      <th>NAME</th>\n",
       "      <th>S1903_C01_001E</th>\n",
       "      <th>S1903_C01_001M</th>\n",
       "      <th>S1903_C01_002E</th>\n",
       "      <th>S1903_C01_002M</th>\n",
       "      <th>S1903_C01_003E</th>\n",
       "      <th>S1903_C01_003M</th>\n",
       "      <th>S1903_C01_004E</th>\n",
       "      <th>S1903_C01_004M</th>\n",
       "      <th>...</th>\n",
       "      <th>S1903_C03_036M</th>\n",
       "      <th>S1903_C03_037E</th>\n",
       "      <th>S1903_C03_037M</th>\n",
       "      <th>S1903_C03_038E</th>\n",
       "      <th>S1903_C03_038M</th>\n",
       "      <th>S1903_C03_039E</th>\n",
       "      <th>S1903_C03_039M</th>\n",
       "      <th>S1903_C03_040E</th>\n",
       "      <th>S1903_C03_040M</th>\n",
       "      <th>Unnamed: 242</th>\n",
       "    </tr>\n",
       "  </thead>\n",
       "  <tbody>\n",
       "    <tr>\n",
       "      <th>0</th>\n",
       "      <td>Geography</td>\n",
       "      <td>Geographic Area Name</td>\n",
       "      <td>Estimate!!Number!!HOUSEHOLD INCOME BY RACE AND...</td>\n",
       "      <td>Margin of Error!!Number!!HOUSEHOLD INCOME BY R...</td>\n",
       "      <td>Estimate!!Number!!HOUSEHOLD INCOME BY RACE AND...</td>\n",
       "      <td>Margin of Error!!Number!!HOUSEHOLD INCOME BY R...</td>\n",
       "      <td>Estimate!!Number!!HOUSEHOLD INCOME BY RACE AND...</td>\n",
       "      <td>Margin of Error!!Number!!HOUSEHOLD INCOME BY R...</td>\n",
       "      <td>Estimate!!Number!!HOUSEHOLD INCOME BY RACE AND...</td>\n",
       "      <td>Margin of Error!!Number!!HOUSEHOLD INCOME BY R...</td>\n",
       "      <td>...</td>\n",
       "      <td>Margin of Error!!Median income (dollars)!!NONF...</td>\n",
       "      <td>Estimate!!Median income (dollars)!!NONFAMILY H...</td>\n",
       "      <td>Margin of Error!!Median income (dollars)!!NONF...</td>\n",
       "      <td>Estimate!!Median income (dollars)!!NONFAMILY H...</td>\n",
       "      <td>Margin of Error!!Median income (dollars)!!NONF...</td>\n",
       "      <td>Estimate!!Median income (dollars)!!NONFAMILY H...</td>\n",
       "      <td>Margin of Error!!Median income (dollars)!!NONF...</td>\n",
       "      <td>Estimate!!Median income (dollars)!!NONFAMILY H...</td>\n",
       "      <td>Margin of Error!!Median income (dollars)!!NONF...</td>\n",
       "      <td>NaN</td>\n",
       "    </tr>\n",
       "    <tr>\n",
       "      <th>1</th>\n",
       "      <td>0100000US</td>\n",
       "      <td>United States</td>\n",
       "      <td>127482865</td>\n",
       "      <td>208633</td>\n",
       "      <td>87717076</td>\n",
       "      <td>187768</td>\n",
       "      <td>15556942</td>\n",
       "      <td>20805</td>\n",
       "      <td>932199</td>\n",
       "      <td>7120</td>\n",
       "      <td>...</td>\n",
       "      <td>71</td>\n",
       "      <td>82142</td>\n",
       "      <td>317</td>\n",
       "      <td>54128</td>\n",
       "      <td>111</td>\n",
       "      <td>46229</td>\n",
       "      <td>104</td>\n",
       "      <td>91583</td>\n",
       "      <td>330</td>\n",
       "      <td>NaN</td>\n",
       "    </tr>\n",
       "    <tr>\n",
       "      <th>2</th>\n",
       "      <td>0500000US01001</td>\n",
       "      <td>Autauga County, Alabama</td>\n",
       "      <td>22523</td>\n",
       "      <td>431</td>\n",
       "      <td>16901</td>\n",
       "      <td>415</td>\n",
       "      <td>4198</td>\n",
       "      <td>308</td>\n",
       "      <td>13</td>\n",
       "      <td>22</td>\n",
       "      <td>...</td>\n",
       "      <td>2660</td>\n",
       "      <td>45509</td>\n",
       "      <td>22483</td>\n",
       "      <td>48909</td>\n",
       "      <td>7421</td>\n",
       "      <td>43900</td>\n",
       "      <td>5962</td>\n",
       "      <td>88750</td>\n",
       "      <td>13713</td>\n",
       "      <td>NaN</td>\n",
       "    </tr>\n",
       "    <tr>\n",
       "      <th>3</th>\n",
       "      <td>0500000US01003</td>\n",
       "      <td>Baldwin County, Alabama</td>\n",
       "      <td>94642</td>\n",
       "      <td>1316</td>\n",
       "      <td>81281</td>\n",
       "      <td>1245</td>\n",
       "      <td>7647</td>\n",
       "      <td>544</td>\n",
       "      <td>285</td>\n",
       "      <td>110</td>\n",
       "      <td>...</td>\n",
       "      <td>2415</td>\n",
       "      <td>66490</td>\n",
       "      <td>25264</td>\n",
       "      <td>50819</td>\n",
       "      <td>5602</td>\n",
       "      <td>42586</td>\n",
       "      <td>3460</td>\n",
       "      <td>85794</td>\n",
       "      <td>15009</td>\n",
       "      <td>NaN</td>\n",
       "    </tr>\n",
       "    <tr>\n",
       "      <th>4</th>\n",
       "      <td>0500000US01005</td>\n",
       "      <td>Barbour County, Alabama</td>\n",
       "      <td>9080</td>\n",
       "      <td>315</td>\n",
       "      <td>4351</td>\n",
       "      <td>227</td>\n",
       "      <td>4091</td>\n",
       "      <td>293</td>\n",
       "      <td>20</td>\n",
       "      <td>20</td>\n",
       "      <td>...</td>\n",
       "      <td>2219</td>\n",
       "      <td>49583</td>\n",
       "      <td>28479</td>\n",
       "      <td>22796</td>\n",
       "      <td>7049</td>\n",
       "      <td>22566</td>\n",
       "      <td>7203</td>\n",
       "      <td>-</td>\n",
       "      <td>**</td>\n",
       "      <td>NaN</td>\n",
       "    </tr>\n",
       "  </tbody>\n",
       "</table>\n",
       "<p>5 rows × 243 columns</p>\n",
       "</div>"
      ],
      "text/plain": [
       "           GEO_ID                     NAME  \\\n",
       "0       Geography     Geographic Area Name   \n",
       "1       0100000US            United States   \n",
       "2  0500000US01001  Autauga County, Alabama   \n",
       "3  0500000US01003  Baldwin County, Alabama   \n",
       "4  0500000US01005  Barbour County, Alabama   \n",
       "\n",
       "                                      S1903_C01_001E  \\\n",
       "0  Estimate!!Number!!HOUSEHOLD INCOME BY RACE AND...   \n",
       "1                                          127482865   \n",
       "2                                              22523   \n",
       "3                                              94642   \n",
       "4                                               9080   \n",
       "\n",
       "                                      S1903_C01_001M  \\\n",
       "0  Margin of Error!!Number!!HOUSEHOLD INCOME BY R...   \n",
       "1                                             208633   \n",
       "2                                                431   \n",
       "3                                               1316   \n",
       "4                                                315   \n",
       "\n",
       "                                      S1903_C01_002E  \\\n",
       "0  Estimate!!Number!!HOUSEHOLD INCOME BY RACE AND...   \n",
       "1                                           87717076   \n",
       "2                                              16901   \n",
       "3                                              81281   \n",
       "4                                               4351   \n",
       "\n",
       "                                      S1903_C01_002M  \\\n",
       "0  Margin of Error!!Number!!HOUSEHOLD INCOME BY R...   \n",
       "1                                             187768   \n",
       "2                                                415   \n",
       "3                                               1245   \n",
       "4                                                227   \n",
       "\n",
       "                                      S1903_C01_003E  \\\n",
       "0  Estimate!!Number!!HOUSEHOLD INCOME BY RACE AND...   \n",
       "1                                           15556942   \n",
       "2                                               4198   \n",
       "3                                               7647   \n",
       "4                                               4091   \n",
       "\n",
       "                                      S1903_C01_003M  \\\n",
       "0  Margin of Error!!Number!!HOUSEHOLD INCOME BY R...   \n",
       "1                                              20805   \n",
       "2                                                308   \n",
       "3                                                544   \n",
       "4                                                293   \n",
       "\n",
       "                                      S1903_C01_004E  \\\n",
       "0  Estimate!!Number!!HOUSEHOLD INCOME BY RACE AND...   \n",
       "1                                             932199   \n",
       "2                                                 13   \n",
       "3                                                285   \n",
       "4                                                 20   \n",
       "\n",
       "                                      S1903_C01_004M  ...  \\\n",
       "0  Margin of Error!!Number!!HOUSEHOLD INCOME BY R...  ...   \n",
       "1                                               7120  ...   \n",
       "2                                                 22  ...   \n",
       "3                                                110  ...   \n",
       "4                                                 20  ...   \n",
       "\n",
       "                                      S1903_C03_036M  \\\n",
       "0  Margin of Error!!Median income (dollars)!!NONF...   \n",
       "1                                                 71   \n",
       "2                                               2660   \n",
       "3                                               2415   \n",
       "4                                               2219   \n",
       "\n",
       "                                      S1903_C03_037E  \\\n",
       "0  Estimate!!Median income (dollars)!!NONFAMILY H...   \n",
       "1                                              82142   \n",
       "2                                              45509   \n",
       "3                                              66490   \n",
       "4                                              49583   \n",
       "\n",
       "                                      S1903_C03_037M  \\\n",
       "0  Margin of Error!!Median income (dollars)!!NONF...   \n",
       "1                                                317   \n",
       "2                                              22483   \n",
       "3                                              25264   \n",
       "4                                              28479   \n",
       "\n",
       "                                      S1903_C03_038E  \\\n",
       "0  Estimate!!Median income (dollars)!!NONFAMILY H...   \n",
       "1                                              54128   \n",
       "2                                              48909   \n",
       "3                                              50819   \n",
       "4                                              22796   \n",
       "\n",
       "                                      S1903_C03_038M  \\\n",
       "0  Margin of Error!!Median income (dollars)!!NONF...   \n",
       "1                                                111   \n",
       "2                                               7421   \n",
       "3                                               5602   \n",
       "4                                               7049   \n",
       "\n",
       "                                      S1903_C03_039E  \\\n",
       "0  Estimate!!Median income (dollars)!!NONFAMILY H...   \n",
       "1                                              46229   \n",
       "2                                              43900   \n",
       "3                                              42586   \n",
       "4                                              22566   \n",
       "\n",
       "                                      S1903_C03_039M  \\\n",
       "0  Margin of Error!!Median income (dollars)!!NONF...   \n",
       "1                                                104   \n",
       "2                                               5962   \n",
       "3                                               3460   \n",
       "4                                               7203   \n",
       "\n",
       "                                      S1903_C03_040E  \\\n",
       "0  Estimate!!Median income (dollars)!!NONFAMILY H...   \n",
       "1                                              91583   \n",
       "2                                              88750   \n",
       "3                                              85794   \n",
       "4                                                  -   \n",
       "\n",
       "                                      S1903_C03_040M Unnamed: 242  \n",
       "0  Margin of Error!!Median income (dollars)!!NONF...          NaN  \n",
       "1                                                330          NaN  \n",
       "2                                              13713          NaN  \n",
       "3                                              15009          NaN  \n",
       "4                                                 **          NaN  \n",
       "\n",
       "[5 rows x 243 columns]"
      ]
     },
     "execution_count": 320,
     "metadata": {},
     "output_type": "execute_result"
    }
   ],
   "source": [
    "acs_df.head(5)"
   ]
  },
  {
   "cell_type": "markdown",
   "id": "a82ed258-b6ae-46b3-927d-03f9947ab839",
   "metadata": {},
   "source": [
    "## Clean ASC Data"
   ]
  },
  {
   "cell_type": "code",
   "execution_count": 321,
   "id": "73c5fd51-c2e2-4cb3-9e43-681441d5d4f6",
   "metadata": {},
   "outputs": [],
   "source": [
    "# Drop the first row (metadata)\n",
    "acs_cleaned = acs_df[1:]"
   ]
  },
  {
   "cell_type": "code",
   "execution_count": 322,
   "id": "04afe05e-7218-4754-b4bc-c6344560757d",
   "metadata": {},
   "outputs": [],
   "source": [
    "# Extract 5-digit county-level FIPS code from GEO_ID\n",
    "# e.g., \"0500000US01001\" → \"01001\"\n",
    "acs_df['geography_id'] = acs_df['GEO_ID'].str[-5:]"
   ]
  },
  {
   "cell_type": "code",
   "execution_count": 323,
   "id": "36ec4fc1-b3b8-4481-ab3c-ea5c7bb93f18",
   "metadata": {},
   "outputs": [],
   "source": [
    "# Convert median income column (S1903_C01_001E) to numeric\n",
    "acs_df['median_income_all'] = pd.to_numeric(acs_df['S1903_C01_001E'], errors='coerce')"
   ]
  },
  {
   "cell_type": "code",
   "execution_count": 324,
   "id": "b12c8f97-c67e-4f40-9047-a5d6696fe806",
   "metadata": {},
   "outputs": [],
   "source": [
    "# Select relevant columns only\n",
    "acs_income_summary = acs_df[['geography_id', 'NAME', 'median_income_all']].copy()"
   ]
  },
  {
   "cell_type": "code",
   "execution_count": 365,
   "id": "9101f968-e0d7-4249-9fdb-4853135b5423",
   "metadata": {},
   "outputs": [],
   "source": [
    "# Remove very low or zero/negative income values\n",
    "income_filtered = acs_income_summary[\n",
    "    acs_income_summary['median_income_all'].notna() &\n",
    "    (acs_income_summary['median_income_all'] > 10000) &\n",
    "    (acs_income_summary['median_income_all'] < 750000)  # cap at $750k\n",
    "]"
   ]
  },
  {
   "cell_type": "markdown",
   "id": "05e149d9-4553-4a08-a673-362a41b187a0",
   "metadata": {},
   "source": [
    "### Visualizations of EDA"
   ]
  },
  {
   "cell_type": "code",
   "execution_count": 366,
   "id": "3c7b5073-bbb4-42c7-b326-3aff51438ccb",
   "metadata": {},
   "outputs": [
    {
     "name": "stderr",
     "output_type": "stream",
     "text": [
      "C:\\Users\\rbrio\\anaconda3\\Lib\\site-packages\\seaborn\\_oldcore.py:1119: FutureWarning: use_inf_as_na option is deprecated and will be removed in a future version. Convert inf values to NaN before operating instead.\n",
      "  with pd.option_context('mode.use_inf_as_na', True):\n"
     ]
    },
    {
     "data": {
      "image/png": "[encoded data removed]",
      "text/plain": [
       "<Figure size 1000x600 with 1 Axes>"
      ]
     },
     "metadata": {},
     "output_type": "display_data"
    }
   ],
   "source": [
    "# Plot histogram\n",
    "plt.figure(figsize=(10, 6))\n",
    "sns.histplot(income_filtered['median_income_all'], bins=50, kde=True, color='steelblue')\n",
    "plt.title(\"Distribution of Median Household Income (ACS 2023)\")\n",
    "plt.xlabel(\"Median Household Income ($)\")\n",
    "plt.ylabel(\"Number of Counties\")\n",
    "plt.tight_layout()\n",
    "plt.show()"
   ]
  },
  {
   "cell_type": "markdown",
   "id": "b956dda3-f467-417f-857b-5a81b10274c9",
   "metadata": {},
   "source": [
    "To be clear, this is median income by county, not individual. Still kind of staggering. "
   ]
  },
  {
   "cell_type": "code",
   "execution_count": 367,
   "id": "4768da11-bf0e-4766-9726-9c42f29abf3c",
   "metadata": {},
   "outputs": [
    {
     "data": {
      "image/png": "[encoded data removed]",
      "text/plain": [
       "<Figure size 1000x200 with 1 Axes>"
      ]
     },
     "metadata": {},
     "output_type": "display_data"
    }
   ],
   "source": [
    "# Boxplot to show income spread and outliers\n",
    "plt.figure(figsize=(10, 2))\n",
    "sns.boxplot(x=acs_income_summary['median_income_all'], color='salmon')\n",
    "plt.title(\"Boxplot of Median Household Income\")\n",
    "plt.xlabel(\"Median Income ($)\")\n",
    "plt.tight_layout()\n",
    "plt.show()"
   ]
  },
  {
   "cell_type": "code",
   "execution_count": 327,
   "id": "02984f36-751a-4b52-b1fc-c0f53d50aabd",
   "metadata": {},
   "outputs": [
    {
     "name": "stdout",
     "output_type": "stream",
     "text": [
      "count    3.223000e+03\n",
      "mean     7.949270e+04\n",
      "std      2.248128e+06\n",
      "min      1.700000e+01\n",
      "25%      4.269000e+03\n",
      "50%      1.021800e+04\n",
      "75%      2.640450e+04\n",
      "max      1.274829e+08\n",
      "Name: median_income_all, dtype: float64\n"
     ]
    }
   ],
   "source": [
    "# Summary statistics\n",
    "print(acs_income_summary['median_income_all'].describe())"
   ]
  },
  {
   "cell_type": "markdown",
   "id": "97522195-5972-44cb-aba2-94d33382bbab",
   "metadata": {},
   "source": [
    "## Building Model Data"
   ]
  },
  {
   "cell_type": "code",
   "execution_count": 339,
   "id": "80578f18-879f-4ff8-9039-da2f861b3ff9",
   "metadata": {},
   "outputs": [],
   "source": [
    "#  Filter to county-level rows only \n",
    "fcc_county = fcc_df[fcc_df['geography_type'] == 'County'].copy()"
   ]
  },
  {
   "cell_type": "code",
   "execution_count": 340,
   "id": "b7e4689b-739e-4272-b120-71cf9e18f2ce",
   "metadata": {},
   "outputs": [],
   "source": [
    "# Create binary target variable\n",
    "# A county \"has gigabit\" if any of its entries report gigabit availability > 0\n",
    "fcc_county['has_gigabit'] = (fcc_county['speed_1000_100'] > 0).astype(int)"
   ]
  },
  {
   "cell_type": "code",
   "execution_count": 341,
   "id": "f1534ef5-2c22-42c2-b67b-9a596062c05c",
   "metadata": {},
   "outputs": [],
   "source": [
    "# Aggregate broadband metrics by county \n",
    "fcc_model_df = (\n",
    "    fcc_county.groupby('geography_id')\n",
    "    .agg(\n",
    "        has_gigabit=('has_gigabit', 'max'),  # target\n",
    "        avg_gigabit_availability=('speed_1000_100', 'mean'),\n",
    "        avg_speed_250_25=('speed_250_25', 'mean'),\n",
    "        avg_speed_100_20=('speed_100_20', 'mean'),\n",
    "        avg_speed_25_3=('speed_25_3', 'mean'),\n",
    "        total_units=('total_units', 'sum'),\n",
    "        county_name=('geography_desc_full', 'first')\n",
    "    )\n",
    "    .reset_index()\n",
    ")"
   ]
  },
  {
   "cell_type": "code",
   "execution_count": 342,
   "id": "fbe74314-99c8-4c7f-a17a-cc3ccc065d19",
   "metadata": {},
   "outputs": [],
   "source": [
    "# Filter ACS Data\n",
    "acs_df['geography_id'] = acs_df['GEO_ID'].str[-5:]\n",
    "acs_df['median_income_all'] = pd.to_numeric(acs_df['S1903_C01_001E'], errors='coerce')\n",
    "acs_income_summary = acs_df[['geography_id', 'NAME', 'median_income_all']].copy()"
   ]
  },
  {
   "cell_type": "code",
   "execution_count": 343,
   "id": "1a01452a-58dd-4dbc-b226-bb9f0360ddc4",
   "metadata": {},
   "outputs": [],
   "source": [
    "# Merge Data\n",
    "model_df = pd.merge(fcc_model_df, acs_income_summary, on='geography_id', how='inner')\n",
    "model_df = model_df.dropna()"
   ]
  },
  {
   "cell_type": "markdown",
   "id": "c725cb39-efb5-4b7f-8cb5-51b14b3f7c96",
   "metadata": {},
   "source": [
    "### Modeling"
   ]
  },
  {
   "cell_type": "code",
   "execution_count": 344,
   "id": "ba3d7831-3ccf-46d1-8dd6-c4622ff4cb07",
   "metadata": {},
   "outputs": [],
   "source": [
    "# Define features and target \n",
    "features = [\n",
    "    'median_income_all',\n",
    "    'total_units',\n",
    "    'avg_gigabit_availability',\n",
    "    'avg_speed_250_25',\n",
    "    'avg_speed_100_20',\n",
    "    'avg_speed_25_3'\n",
    "]\n",
    "X = model_df[features]\n",
    "y = model_df['has_gigabit']"
   ]
  },
  {
   "cell_type": "code",
   "execution_count": 346,
   "id": "da719d5a-c3df-4e68-96bf-e296fe881f58",
   "metadata": {},
   "outputs": [],
   "source": [
    "# Split data\n",
    "X_train, X_test, y_train, y_test = train_test_split(X, y, test_size=0.25, random_state=42)"
   ]
  },
  {
   "cell_type": "code",
   "execution_count": 348,
   "id": "24d673ac-a9c3-4300-b993-60e1402cc219",
   "metadata": {},
   "outputs": [
    {
     "data": {
      "text/html": [
       "<style>#sk-container-id-17 {color: black;background-color: white;}#sk-container-id-17 pre{padding: 0;}#sk-container-id-17 div.sk-toggleable {background-color: white;}#sk-container-id-17 label.sk-toggleable__label {cursor: pointer;display: block;width: 100%;margin-bottom: 0;padding: 0.3em;box-sizing: border-box;text-align: center;}#sk-container-id-17 label.sk-toggleable__label-arrow:before {content: \"▸\";float: left;margin-right: 0.25em;color: #696969;}#sk-container-id-17 label.sk-toggleable__label-arrow:hover:before {color: black;}#sk-container-id-17 div.sk-estimator:hover label.sk-toggleable__label-arrow:before {color: black;}#sk-container-id-17 div.sk-toggleable__content {max-height: 0;max-width: 0;overflow: hidden;text-align: left;background-color: #f0f8ff;}#sk-container-id-17 div.sk-toggleable__content pre {margin: 0.2em;color: black;border-radius: 0.25em;background-color: #f0f8ff;}#sk-container-id-17 input.sk-toggleable__control:checked~div.sk-toggleable__content {max-height: 200px;max-width: 100%;overflow: auto;}#sk-container-id-17 input.sk-toggleable__control:checked~label.sk-toggleable__label-arrow:before {content: \"▾\";}#sk-container-id-17 div.sk-estimator input.sk-toggleable__control:checked~label.sk-toggleable__label {background-color: #d4ebff;}#sk-container-id-17 div.sk-label input.sk-toggleable__control:checked~label.sk-toggleable__label {background-color: #d4ebff;}#sk-container-id-17 input.sk-hidden--visually {border: 0;clip: rect(1px 1px 1px 1px);clip: rect(1px, 1px, 1px, 1px);height: 1px;margin: -1px;overflow: hidden;padding: 0;position: absolute;width: 1px;}#sk-container-id-17 div.sk-estimator {font-family: monospace;background-color: #f0f8ff;border: 1px dotted black;border-radius: 0.25em;box-sizing: border-box;margin-bottom: 0.5em;}#sk-container-id-17 div.sk-estimator:hover {background-color: #d4ebff;}#sk-container-id-17 div.sk-parallel-item::after {content: \"\";width: 100%;border-bottom: 1px solid gray;flex-grow: 1;}#sk-container-id-17 div.sk-label:hover label.sk-toggleable__label {background-color: #d4ebff;}#sk-container-id-17 div.sk-serial::before {content: \"\";position: absolute;border-left: 1px solid gray;box-sizing: border-box;top: 0;bottom: 0;left: 50%;z-index: 0;}#sk-container-id-17 div.sk-serial {display: flex;flex-direction: column;align-items: center;background-color: white;padding-right: 0.2em;padding-left: 0.2em;position: relative;}#sk-container-id-17 div.sk-item {position: relative;z-index: 1;}#sk-container-id-17 div.sk-parallel {display: flex;align-items: stretch;justify-content: center;background-color: white;position: relative;}#sk-container-id-17 div.sk-item::before, #sk-container-id-17 div.sk-parallel-item::before {content: \"\";position: absolute;border-left: 1px solid gray;box-sizing: border-box;top: 0;bottom: 0;left: 50%;z-index: -1;}#sk-container-id-17 div.sk-parallel-item {display: flex;flex-direction: column;z-index: 1;position: relative;background-color: white;}#sk-container-id-17 div.sk-parallel-item:first-child::after {align-self: flex-end;width: 50%;}#sk-container-id-17 div.sk-parallel-item:last-child::after {align-self: flex-start;width: 50%;}#sk-container-id-17 div.sk-parallel-item:only-child::after {width: 0;}#sk-container-id-17 div.sk-dashed-wrapped {border: 1px dashed gray;margin: 0 0.4em 0.5em 0.4em;box-sizing: border-box;padding-bottom: 0.4em;background-color: white;}#sk-container-id-17 div.sk-label label {font-family: monospace;font-weight: bold;display: inline-block;line-height: 1.2em;}#sk-container-id-17 div.sk-label-container {text-align: center;}#sk-container-id-17 div.sk-container {/* jupyter's `normalize.less` sets `[hidden] { display: none; }` but bootstrap.min.css set `[hidden] { display: none !important; }` so we also need the `!important` here to be able to override the default hidden behavior on the sphinx rendered scikit-learn.org. See: https://github.com/scikit-learn/scikit-learn/issues/21755 */display: inline-block !important;position: relative;}#sk-container-id-17 div.sk-text-repr-fallback {display: none;}</style><div id=\"sk-container-id-17\" class=\"sk-top-container\"><div class=\"sk-text-repr-fallback\"><pre>RandomForestClassifier(random_state=42)</pre><b>In a Jupyter environment, please rerun this cell to show the HTML representation or trust the notebook. <br />On GitHub, the HTML representation is unable to render, please try loading this page with nbviewer.org.</b></div><div class=\"sk-container\" hidden><div class=\"sk-item\"><div class=\"sk-estimator sk-toggleable\"><input class=\"sk-toggleable__control sk-hidden--visually\" id=\"sk-estimator-id-17\" type=\"checkbox\" checked><label for=\"sk-estimator-id-17\" class=\"sk-toggleable__label sk-toggleable__label-arrow\">RandomForestClassifier</label><div class=\"sk-toggleable__content\"><pre>RandomForestClassifier(random_state=42)</pre></div></div></div></div></div>"
      ],
      "text/plain": [
       "RandomForestClassifier(random_state=42)"
      ]
     },
     "execution_count": 348,
     "metadata": {},
     "output_type": "execute_result"
    }
   ],
   "source": [
    "# Train Random Forest\n",
    "model = RandomForestClassifier(n_estimators=100, random_state=42)\n",
    "model.fit(X_train, y_train)"
   ]
  },
  {
   "cell_type": "code",
   "execution_count": 350,
   "id": "5cb7b781-6201-41f0-b6bc-4682a3147aca",
   "metadata": {},
   "outputs": [
    {
     "name": "stdout",
     "output_type": "stream",
     "text": [
      "Classification Report:\n",
      "               precision    recall  f1-score   support\n",
      "\n",
      "           0       1.00      1.00      1.00         7\n",
      "           1       1.00      1.00      1.00       797\n",
      "\n",
      "    accuracy                           1.00       804\n",
      "   macro avg       1.00      1.00      1.00       804\n",
      "weighted avg       1.00      1.00      1.00       804\n",
      "\n",
      "Confusion Matrix:\n",
      " [[  7   0]\n",
      " [  0 797]]\n"
     ]
    }
   ],
   "source": [
    "# Predict and evaluate \n",
    "y_pred = model.predict(X_test)\n",
    "\n",
    "print(\"Classification Report:\\n\", classification_report(y_test, y_pred))\n",
    "print(\"Confusion Matrix:\\n\", confusion_matrix(y_test, y_pred))"
   ]
  },
  {
   "cell_type": "code",
   "execution_count": 351,
   "id": "717d0842-08f7-4af2-b9a1-2d19bd35e63a",
   "metadata": {},
   "outputs": [],
   "source": [
    "# Feature Importance \n",
    "importances = model.feature_importances_\n",
    "feat_imp_df = pd.DataFrame({'Feature': features, 'Importance': importances}).sort_values(by='Importance', ascending=False)"
   ]
  },
  {
   "cell_type": "code",
   "execution_count": 352,
   "id": "05eb1df5-9f53-4d19-b65a-640397bb6e77",
   "metadata": {},
   "outputs": [
    {
     "data": {
      "image/png": "[encoded data removed]",
      "text/plain": [
       "<Figure size 1000x600 with 1 Axes>"
      ]
     },
     "metadata": {},
     "output_type": "display_data"
    }
   ],
   "source": [
    "# Plot feature importances\n",
    "plt.figure(figsize=(10, 6))\n",
    "sns.barplot(data=feat_imp_df, x='Importance', y='Feature', palette='viridis')\n",
    "plt.title('Feature Importances (Random Forest)')\n",
    "plt.tight_layout()\n",
    "plt.show()"
   ]
  },
  {
   "cell_type": "code",
   "execution_count": null,
   "id": "15a70613-c11b-4974-9f8f-f889067cad9d",
   "metadata": {},
   "outputs": [],
   "source": []
  },
  {
   "cell_type": "code",
   "execution_count": 353,
   "id": "d2f39418-9df0-44d6-a1b3-5e697bf9b314",
   "metadata": {},
   "outputs": [],
   "source": [
    "# Add predicted values to test set\n",
    "X_test_with_preds = X_test.copy()\n",
    "X_test_with_preds['actual'] = y_test\n",
    "X_test_with_preds['predicted'] = y_pred"
   ]
  },
  {
   "cell_type": "code",
   "execution_count": 354,
   "id": "a2677838-b30d-4876-897e-884c1711894c",
   "metadata": {},
   "outputs": [],
   "source": [
    "# Re-attach county metadata (e.g., name and FIPS)\n",
    "# First, merge with the original model_df to get county_name\n",
    "X_test_with_info = X_test_with_preds.merge(\n",
    "    model_df[['geography_id', 'county_name']],\n",
    "    left_index=True,\n",
    "    right_index=True,\n",
    "    how='left'\n",
    ")"
   ]
  },
  {
   "cell_type": "code",
   "execution_count": 355,
   "id": "f4b84e68-836b-4216-bfb2-9ae27ed07a3d",
   "metadata": {},
   "outputs": [
    {
     "data": {
      "text/html": [
       "<div>\n",
       "<style scoped>\n",
       "    .dataframe tbody tr th:only-of-type {\n",
       "        vertical-align: middle;\n",
       "    }\n",
       "\n",
       "    .dataframe tbody tr th {\n",
       "        vertical-align: top;\n",
       "    }\n",
       "\n",
       "    .dataframe thead th {\n",
       "        text-align: right;\n",
       "    }\n",
       "</style>\n",
       "<table border=\"1\" class=\"dataframe\">\n",
       "  <thead>\n",
       "    <tr style=\"text-align: right;\">\n",
       "      <th></th>\n",
       "      <th>median_income_all</th>\n",
       "      <th>total_units</th>\n",
       "      <th>avg_gigabit_availability</th>\n",
       "      <th>avg_speed_250_25</th>\n",
       "      <th>avg_speed_100_20</th>\n",
       "      <th>avg_speed_25_3</th>\n",
       "      <th>actual</th>\n",
       "      <th>predicted</th>\n",
       "      <th>geography_id</th>\n",
       "      <th>county_name</th>\n",
       "    </tr>\n",
       "  </thead>\n",
       "  <tbody>\n",
       "    <tr>\n",
       "      <th>506</th>\n",
       "      <td>10276.0</td>\n",
       "      <td>1268640</td>\n",
       "      <td>0.145212</td>\n",
       "      <td>0.294805</td>\n",
       "      <td>0.498237</td>\n",
       "      <td>0.620038</td>\n",
       "      <td>1</td>\n",
       "      <td>1</td>\n",
       "      <td>13257</td>\n",
       "      <td>Stephens County, GA</td>\n",
       "    </tr>\n",
       "    <tr>\n",
       "      <th>2513</th>\n",
       "      <td>11001.0</td>\n",
       "      <td>1294830</td>\n",
       "      <td>0.211200</td>\n",
       "      <td>0.244687</td>\n",
       "      <td>0.416130</td>\n",
       "      <td>0.511247</td>\n",
       "      <td>1</td>\n",
       "      <td>1</td>\n",
       "      <td>47185</td>\n",
       "      <td>White County, TN</td>\n",
       "    </tr>\n",
       "    <tr>\n",
       "      <th>354</th>\n",
       "      <td>67820.0</td>\n",
       "      <td>8653050</td>\n",
       "      <td>0.106748</td>\n",
       "      <td>0.364472</td>\n",
       "      <td>0.560324</td>\n",
       "      <td>0.682843</td>\n",
       "      <td>1</td>\n",
       "      <td>1</td>\n",
       "      <td>12085</td>\n",
       "      <td>Martin County, FL</td>\n",
       "    </tr>\n",
       "    <tr>\n",
       "      <th>1080</th>\n",
       "      <td>1506.0</td>\n",
       "      <td>208530</td>\n",
       "      <td>0.397583</td>\n",
       "      <td>0.397583</td>\n",
       "      <td>0.541936</td>\n",
       "      <td>0.611567</td>\n",
       "      <td>1</td>\n",
       "      <td>1</td>\n",
       "      <td>21189</td>\n",
       "      <td>Owsley County, KY</td>\n",
       "    </tr>\n",
       "    <tr>\n",
       "      <th>2389</th>\n",
       "      <td>740.0</td>\n",
       "      <td>144270</td>\n",
       "      <td>0.267467</td>\n",
       "      <td>0.267467</td>\n",
       "      <td>0.470252</td>\n",
       "      <td>0.583409</td>\n",
       "      <td>1</td>\n",
       "      <td>1</td>\n",
       "      <td>46071</td>\n",
       "      <td>Jackson County, SD</td>\n",
       "    </tr>\n",
       "    <tr>\n",
       "      <th>1642</th>\n",
       "      <td>382.0</td>\n",
       "      <td>46530</td>\n",
       "      <td>0.049936</td>\n",
       "      <td>0.049936</td>\n",
       "      <td>0.243548</td>\n",
       "      <td>0.414247</td>\n",
       "      <td>1</td>\n",
       "      <td>1</td>\n",
       "      <td>30103</td>\n",
       "      <td>Treasure County, MT</td>\n",
       "    </tr>\n",
       "    <tr>\n",
       "      <th>2706</th>\n",
       "      <td>55758.0</td>\n",
       "      <td>6172920</td>\n",
       "      <td>0.343441</td>\n",
       "      <td>0.393200</td>\n",
       "      <td>0.644757</td>\n",
       "      <td>0.774571</td>\n",
       "      <td>1</td>\n",
       "      <td>1</td>\n",
       "      <td>48381</td>\n",
       "      <td>Randall County, TX</td>\n",
       "    </tr>\n",
       "    <tr>\n",
       "      <th>2776</th>\n",
       "      <td>6714.0</td>\n",
       "      <td>1131030</td>\n",
       "      <td>0.198687</td>\n",
       "      <td>0.205883</td>\n",
       "      <td>0.374788</td>\n",
       "      <td>0.474479</td>\n",
       "      <td>1</td>\n",
       "      <td>1</td>\n",
       "      <td>49013</td>\n",
       "      <td>Duchesne County, UT</td>\n",
       "    </tr>\n",
       "    <tr>\n",
       "      <th>2362</th>\n",
       "      <td>496.0</td>\n",
       "      <td>73080</td>\n",
       "      <td>0.397955</td>\n",
       "      <td>0.397955</td>\n",
       "      <td>0.532301</td>\n",
       "      <td>0.600045</td>\n",
       "      <td>1</td>\n",
       "      <td>1</td>\n",
       "      <td>46017</td>\n",
       "      <td>Buffalo County, SD</td>\n",
       "    </tr>\n",
       "    <tr>\n",
       "      <th>1741</th>\n",
       "      <td>847378.0</td>\n",
       "      <td>93257550</td>\n",
       "      <td>0.325921</td>\n",
       "      <td>0.399963</td>\n",
       "      <td>0.551332</td>\n",
       "      <td>0.688250</td>\n",
       "      <td>1</td>\n",
       "      <td>1</td>\n",
       "      <td>32003</td>\n",
       "      <td>Clark County, NV</td>\n",
       "    </tr>\n",
       "  </tbody>\n",
       "</table>\n",
       "</div>"
      ],
      "text/plain": [
       "      median_income_all  total_units  avg_gigabit_availability  \\\n",
       "506             10276.0      1268640                  0.145212   \n",
       "2513            11001.0      1294830                  0.211200   \n",
       "354             67820.0      8653050                  0.106748   \n",
       "1080             1506.0       208530                  0.397583   \n",
       "2389              740.0       144270                  0.267467   \n",
       "1642              382.0        46530                  0.049936   \n",
       "2706            55758.0      6172920                  0.343441   \n",
       "2776             6714.0      1131030                  0.198687   \n",
       "2362              496.0        73080                  0.397955   \n",
       "1741           847378.0     93257550                  0.325921   \n",
       "\n",
       "      avg_speed_250_25  avg_speed_100_20  avg_speed_25_3  actual  predicted  \\\n",
       "506           0.294805          0.498237        0.620038       1          1   \n",
       "2513          0.244687          0.416130        0.511247       1          1   \n",
       "354           0.364472          0.560324        0.682843       1          1   \n",
       "1080          0.397583          0.541936        0.611567       1          1   \n",
       "2389          0.267467          0.470252        0.583409       1          1   \n",
       "1642          0.049936          0.243548        0.414247       1          1   \n",
       "2706          0.393200          0.644757        0.774571       1          1   \n",
       "2776          0.205883          0.374788        0.474479       1          1   \n",
       "2362          0.397955          0.532301        0.600045       1          1   \n",
       "1741          0.399963          0.551332        0.688250       1          1   \n",
       "\n",
       "     geography_id          county_name  \n",
       "506         13257  Stephens County, GA  \n",
       "2513        47185     White County, TN  \n",
       "354         12085    Martin County, FL  \n",
       "1080        21189    Owsley County, KY  \n",
       "2389        46071   Jackson County, SD  \n",
       "1642        30103  Treasure County, MT  \n",
       "2706        48381   Randall County, TX  \n",
       "2776        49013  Duchesne County, UT  \n",
       "2362        46017   Buffalo County, SD  \n",
       "1741        32003     Clark County, NV  "
      ]
     },
     "execution_count": 355,
     "metadata": {},
     "output_type": "execute_result"
    }
   ],
   "source": [
    "X_test_with_info.head(10)  # view top 10 predicted counties"
   ]
  },
  {
   "cell_type": "markdown",
   "id": "420ed6f3-cd59-48f6-9ac2-ffec6d955dd8",
   "metadata": {},
   "source": [
    "To be clear, what we are predicitng here are counties to remain underserved within the next 6-12 months. "
   ]
  },
  {
   "cell_type": "markdown",
   "id": "066fcb3d-59ad-4ff3-86b2-caaa9fde70c5",
   "metadata": {},
   "source": [
    "### Model on Full Data set and Sumamrize by States"
   ]
  },
  {
   "cell_type": "code",
   "execution_count": 356,
   "id": "f368fd45-395b-4ce5-a3ad-e131aaee583b",
   "metadata": {},
   "outputs": [],
   "source": [
    "features = [\n",
    "    'median_income_all',\n",
    "    'total_units',\n",
    "    'avg_gigabit_availability',\n",
    "    'avg_speed_250_25',\n",
    "    'avg_speed_100_20',\n",
    "    'avg_speed_25_3'\n",
    "]\n",
    "X = model_df[features]\n",
    "y = model_df['has_gigabit']"
   ]
  },
  {
   "cell_type": "code",
   "execution_count": 357,
   "id": "43af78a4-8558-4b1d-9af9-799c00ce085a",
   "metadata": {},
   "outputs": [
    {
     "data": {
      "text/html": [
       "<style>#sk-container-id-18 {color: black;background-color: white;}#sk-container-id-18 pre{padding: 0;}#sk-container-id-18 div.sk-toggleable {background-color: white;}#sk-container-id-18 label.sk-toggleable__label {cursor: pointer;display: block;width: 100%;margin-bottom: 0;padding: 0.3em;box-sizing: border-box;text-align: center;}#sk-container-id-18 label.sk-toggleable__label-arrow:before {content: \"▸\";float: left;margin-right: 0.25em;color: #696969;}#sk-container-id-18 label.sk-toggleable__label-arrow:hover:before {color: black;}#sk-container-id-18 div.sk-estimator:hover label.sk-toggleable__label-arrow:before {color: black;}#sk-container-id-18 div.sk-toggleable__content {max-height: 0;max-width: 0;overflow: hidden;text-align: left;background-color: #f0f8ff;}#sk-container-id-18 div.sk-toggleable__content pre {margin: 0.2em;color: black;border-radius: 0.25em;background-color: #f0f8ff;}#sk-container-id-18 input.sk-toggleable__control:checked~div.sk-toggleable__content {max-height: 200px;max-width: 100%;overflow: auto;}#sk-container-id-18 input.sk-toggleable__control:checked~label.sk-toggleable__label-arrow:before {content: \"▾\";}#sk-container-id-18 div.sk-estimator input.sk-toggleable__control:checked~label.sk-toggleable__label {background-color: #d4ebff;}#sk-container-id-18 div.sk-label input.sk-toggleable__control:checked~label.sk-toggleable__label {background-color: #d4ebff;}#sk-container-id-18 input.sk-hidden--visually {border: 0;clip: rect(1px 1px 1px 1px);clip: rect(1px, 1px, 1px, 1px);height: 1px;margin: -1px;overflow: hidden;padding: 0;position: absolute;width: 1px;}#sk-container-id-18 div.sk-estimator {font-family: monospace;background-color: #f0f8ff;border: 1px dotted black;border-radius: 0.25em;box-sizing: border-box;margin-bottom: 0.5em;}#sk-container-id-18 div.sk-estimator:hover {background-color: #d4ebff;}#sk-container-id-18 div.sk-parallel-item::after {content: \"\";width: 100%;border-bottom: 1px solid gray;flex-grow: 1;}#sk-container-id-18 div.sk-label:hover label.sk-toggleable__label {background-color: #d4ebff;}#sk-container-id-18 div.sk-serial::before {content: \"\";position: absolute;border-left: 1px solid gray;box-sizing: border-box;top: 0;bottom: 0;left: 50%;z-index: 0;}#sk-container-id-18 div.sk-serial {display: flex;flex-direction: column;align-items: center;background-color: white;padding-right: 0.2em;padding-left: 0.2em;position: relative;}#sk-container-id-18 div.sk-item {position: relative;z-index: 1;}#sk-container-id-18 div.sk-parallel {display: flex;align-items: stretch;justify-content: center;background-color: white;position: relative;}#sk-container-id-18 div.sk-item::before, #sk-container-id-18 div.sk-parallel-item::before {content: \"\";position: absolute;border-left: 1px solid gray;box-sizing: border-box;top: 0;bottom: 0;left: 50%;z-index: -1;}#sk-container-id-18 div.sk-parallel-item {display: flex;flex-direction: column;z-index: 1;position: relative;background-color: white;}#sk-container-id-18 div.sk-parallel-item:first-child::after {align-self: flex-end;width: 50%;}#sk-container-id-18 div.sk-parallel-item:last-child::after {align-self: flex-start;width: 50%;}#sk-container-id-18 div.sk-parallel-item:only-child::after {width: 0;}#sk-container-id-18 div.sk-dashed-wrapped {border: 1px dashed gray;margin: 0 0.4em 0.5em 0.4em;box-sizing: border-box;padding-bottom: 0.4em;background-color: white;}#sk-container-id-18 div.sk-label label {font-family: monospace;font-weight: bold;display: inline-block;line-height: 1.2em;}#sk-container-id-18 div.sk-label-container {text-align: center;}#sk-container-id-18 div.sk-container {/* jupyter's `normalize.less` sets `[hidden] { display: none; }` but bootstrap.min.css set `[hidden] { display: none !important; }` so we also need the `!important` here to be able to override the default hidden behavior on the sphinx rendered scikit-learn.org. See: https://github.com/scikit-learn/scikit-learn/issues/21755 */display: inline-block !important;position: relative;}#sk-container-id-18 div.sk-text-repr-fallback {display: none;}</style><div id=\"sk-container-id-18\" class=\"sk-top-container\"><div class=\"sk-text-repr-fallback\"><pre>RandomForestClassifier(random_state=42)</pre><b>In a Jupyter environment, please rerun this cell to show the HTML representation or trust the notebook. <br />On GitHub, the HTML representation is unable to render, please try loading this page with nbviewer.org.</b></div><div class=\"sk-container\" hidden><div class=\"sk-item\"><div class=\"sk-estimator sk-toggleable\"><input class=\"sk-toggleable__control sk-hidden--visually\" id=\"sk-estimator-id-18\" type=\"checkbox\" checked><label for=\"sk-estimator-id-18\" class=\"sk-toggleable__label sk-toggleable__label-arrow\">RandomForestClassifier</label><div class=\"sk-toggleable__content\"><pre>RandomForestClassifier(random_state=42)</pre></div></div></div></div></div>"
      ],
      "text/plain": [
       "RandomForestClassifier(random_state=42)"
      ]
     },
     "execution_count": 357,
     "metadata": {},
     "output_type": "execute_result"
    }
   ],
   "source": [
    "model = RandomForestClassifier(n_estimators=100, random_state=42)\n",
    "model.fit(X, y)"
   ]
  },
  {
   "cell_type": "code",
   "execution_count": 358,
   "id": "533a5c54-e16e-4196-b3d5-cdc9e21c4209",
   "metadata": {},
   "outputs": [],
   "source": [
    "# Predict and summarize by state \n",
    "model_df['predicted_has_gigabit'] = model.predict(X)\n",
    "model_df['predicted_underserved'] = (model_df['predicted_has_gigabit'] == 0).astype(int)\n",
    "model_df['state'] = model_df['county_name'].str.extract(r',\\s*(\\w{2})$')"
   ]
  },
  {
   "cell_type": "code",
   "execution_count": 359,
   "id": "96fb6c32-67a0-4a86-b00f-ec20f8f26a42",
   "metadata": {},
   "outputs": [],
   "source": [
    "# Group by state \n",
    "state_summary = (\n",
    "    model_df[model_df['predicted_underserved'] == 1]\n",
    "    .groupby('state')\n",
    "    .size()\n",
    "    .reset_index(name='underserved_counties')\n",
    "    .sort_values(by='underserved_counties', ascending=False)\n",
    ")"
   ]
  },
  {
   "cell_type": "code",
   "execution_count": 360,
   "id": "1bb24169-4680-468e-a03e-470ebf5f6a7b",
   "metadata": {},
   "outputs": [
    {
     "name": "stdout",
     "output_type": "stream",
     "text": [
      "   state  underserved_counties\n",
      "0     AK                    12\n",
      "7     KS                     3\n",
      "9     MT                     3\n",
      "10    NE                     3\n",
      "6     IL                     2\n",
      "11    NV                     2\n",
      "12    OK                     2\n",
      "1     AZ                     1\n",
      "2     CA                     1\n",
      "3     GA                     1\n",
      "4     HI                     1\n",
      "5     ID                     1\n",
      "8     KY                     1\n",
      "13    TX                     1\n",
      "14    WI                     1\n",
      "15    WV                     1\n"
     ]
    }
   ],
   "source": [
    "print(state_summary)"
   ]
  },
  {
   "cell_type": "code",
   "execution_count": 361,
   "id": "af5a046a-db7d-4c5f-9b47-b74e08ada243",
   "metadata": {},
   "outputs": [
    {
     "data": {
      "image/png": "[encoded data removed]",
      "text/plain": [
       "<Figure size 1200x600 with 1 Axes>"
      ]
     },
     "metadata": {},
     "output_type": "display_data"
    }
   ],
   "source": [
    "plt.figure(figsize=(12, 6))\n",
    "sns.barplot(data=state_summary, x='state', y='underserved_counties', palette='rocket')\n",
    "\n",
    "plt.title('Number of Predicted Underserved Counties by State')\n",
    "plt.xlabel('State')\n",
    "plt.ylabel('Underserved Counties (Predicted)')\n",
    "plt.xticks(rotation=45)\n",
    "plt.tight_layout()\n",
    "plt.show()"
   ]
  }
 ],
 "metadata": {
  "kernelspec": {
   "display_name": "Python 3 (ipykernel)",
   "language": "python",
   "name": "python3"
  },
  "language_info": {
   "codemirror_mode": {
    "name": "ipython",
    "version": 3
   },
   "file_extension": ".py",
   "mimetype": "text/x-python",
   "name": "python",
   "nbconvert_exporter": "python",
   "pygments_lexer": "ipython3",
   "version": "3.11.7"
  }
 },
 "nbformat": 4,
 "nbformat_minor": 5
}
